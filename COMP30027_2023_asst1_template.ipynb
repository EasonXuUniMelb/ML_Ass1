{
 "cells": [
  {
   "cell_type": "markdown",
   "metadata": {},
   "source": [
    "###### ### The University of Melbourne, School of Computing and Information Systems\n",
    "# COMP30027 Machine Learning, 2023 Semester 1\n",
    "\n",
    "## Assignment 1: Music genre classification with naive Bayes\n"
   ]
  },
  {
   "cell_type": "markdown",
   "metadata": {},
   "source": [
    "**Student ID(s):**     `1174154`\n"
   ]
  },
  {
   "cell_type": "markdown",
   "metadata": {},
   "source": [
    "This iPython notebook is a template which you will use for your Assignment 1 submission.\n",
    "\n",
    "Marking will be applied on the four functions that are defined in this notebook, and to your responses to the questions at the end of this notebook (Submitted in a separate PDF file).\n",
    "\n",
    "**NOTE: YOU SHOULD ADD YOUR RESULTS, DIAGRAMS AND IMAGES FROM YOUR OBSERVATIONS IN THIS FILE TO YOUR REPORT (the PDF file).**\n",
    "\n",
    "You may change the prototypes of these functions, and you may write other functions, according to your requirements. We would appreciate it if the required functions were prominent/easy to find.\n",
    "\n",
    "**Adding proper comments to your code is MANDATORY. **"
   ]
  },
  {
   "cell_type": "code",
   "execution_count": 14,
   "metadata": {},
   "outputs": [],
   "source": [
    "import pandas as pd\n",
    "import numpy as np\n",
    "import scipy.stats as ss\n",
    "import math\n",
    "\n",
    "EPSILON = 0.00000001\n",
    "BASE = -99999999"
   ]
  },
  {
   "cell_type": "code",
   "execution_count": 19,
   "metadata": {
    "collapsed": true
   },
   "outputs": [],
   "source": [
    "# This function should prepare the data by reading it from a file and converting it into a useful format for training and testing\n",
    "def preprocess(filename):\n",
    "    # test data classifying\n",
    "    df = pd.read_csv(filename)\n",
    "    # test_data_df = pd.read_csv('COMP30027_2023_asst1_data\\gztan_test.csv')\n",
    "    \n",
    "    # train data classifying\n",
    "    # train_data_df = pd.read_csv('COMP30027_2023_asst1_data\\gztan_train.csv')\n",
    "\n",
    "    X = df.iloc[:, 1:-1]\n",
    "    y = df.iloc[:,-1]\n",
    "    return X, y, df\n",
    "\n",
    "    # X_train = train_data_df.iloc[:, 1:-1]\n",
    "    # y_train = train_data_df.iloc[:,-1]\n",
    "    # X_test = test_data_df.iloc[:, 1:-1]\n",
    "    # y_test = test_data_df.iloc[:,-1]\n",
    "    \n",
    "    # return X_train, y_train, X_test, y_test, test_data_df, train_data_df\n",
    "    # return X_train, y_train, train_data_df"
   ]
  },
  {
   "cell_type": "code",
   "execution_count": 20,
   "metadata": {
    "collapsed": true
   },
   "outputs": [],
   "source": [
    "# This function should calculate prior probabilities and likelihoods from the training data and using\n",
    "# them to build a naive Bayes model\n",
    "\n",
    "def train(X_train, y_train, train_data_df):\n",
    "    #  X_test, y_test, test_data_df,  = preprocess()\n",
    "\n",
    "    # calculate prior probability by getting unique labels and \n",
    "    prior_prob = {}\n",
    "\n",
    "    unique_labels, counts = np.unique(y_train, return_counts=True)\n",
    "    n = counts.sum()\n",
    "\n",
    "    for i in range(len(unique_labels)):\n",
    "        prior_prob[unique_labels[i]] = (counts[i] / n).round(3)\n",
    "\n",
    "    # calculate miximum likelihood\n",
    "    # gives attributes for the trainning dataset\n",
    "    attribute_lists = X_train.columns\n",
    "    likelihood_parameters = list()\n",
    "\n",
    "    # for each label, correspond with a attribute, calculate the mean and sd for this combination, which will be used to calculate likelihoods P(attribute x1 | class ci)\n",
    "    for label in unique_labels:\n",
    "        data_with_label = train_data_df[train_data_df['label'] == label]\n",
    "\n",
    "        for attribute in attribute_lists:\n",
    "            train_attribute_mean = data_with_label[attribute].mean()\n",
    "            train_attribute_std = data_with_label[attribute].std()\n",
    "            likelihood_parameters.append([train_attribute_mean, train_attribute_std])\n",
    "\n",
    "        # for value in X_train[attribute]:\n",
    "        #     prior = ss.norm(train_attribute_mean, train_attribute_std).cdf(value)\n",
    "    # print(likelihood_parameters)\n",
    "    return prior_prob, likelihood_parameters"
   ]
  },
  {
   "cell_type": "code",
   "execution_count": 30,
   "metadata": {
    "collapsed": true
   },
   "outputs": [],
   "source": [
    "# This function should predict classes for new items in a test dataset\n",
    "\n",
    "def predict(prior_prob, likelihood_parameters, X_test):\n",
    "    # prior_prob, likelihood_parameters, X_test, y_test, test_data_df = train()\n",
    "\n",
    "    # get the labels and attributes for our test dataset\n",
    "    unique_labels = list(prior_prob.keys())\n",
    "    attribute_lists = X_test.columns\n",
    "\n",
    "    choice_list = list()\n",
    "    for index, row in X_test.iterrows():\n",
    "        row_len = len(row)\n",
    "        \n",
    "        highest_posterior = BASE\n",
    "        best_choice = None\n",
    "        for i in range(len(unique_labels)):\n",
    "            # take a label and find the prior probability for this label\n",
    "            label = unique_labels[i]\n",
    "            prior = prior_prob[label]\n",
    "\n",
    "            # parameters for each attribute under this label\n",
    "            correspoding_parameters = likelihood_parameters[int(i*row_len) : int((i+1)*row_len)]\n",
    "\n",
    "            posterior = math.log(prior)\n",
    "            for j in range(len(attribute_lists)):\n",
    "                # attribute value and parameters for this attribute\n",
    "                attribute = attribute_lists[j]\n",
    "                parameters = correspoding_parameters[j]\n",
    "                \n",
    "                # find likelihood using values invoved\n",
    "                value = row[attribute]\n",
    "                mu = parameters[0]\n",
    "                sd = parameters[1]\n",
    "                max_likelihood = 1 / (sd * math.sqrt(2 * math.pi)) * math.exp(-((value-mu)**2) / (2*sd**2))\n",
    "                # max_likelihood = ss.norm(parameters[0], parameters[1]).cdf(value)\n",
    "                \n",
    "                # if the max_likelihood is very close to zero, we can use epsilon to take log\n",
    "                if (max_likelihood <= EPSILON):\n",
    "                    posterior += math.log(EPSILON)\n",
    "                else:\n",
    "                    posterior += math.log(max_likelihood)\n",
    "            \n",
    "            if (posterior > highest_posterior):\n",
    "                highest_posterior = posterior\n",
    "                best_choice = label\n",
    "        \n",
    "        choice_list.append(best_choice)\n",
    "    return choice_list"
   ]
  },
  {
   "cell_type": "code",
   "execution_count": 31,
   "metadata": {
    "collapsed": true
   },
   "outputs": [],
   "source": [
    "# This function should evaliate the prediction performance by comparing your model’s class outputs to ground\n",
    "# truth labels\n",
    "\n",
    "def evaluate(choice_list, y_test):\n",
    "    n = len(y_test)\n",
    "    correct = 0\n",
    "\n",
    "    for i in range(len(choice_list)):\n",
    "        correct += (choice_list[i] == y_test[i])\n",
    "    \n",
    "    return (correct / n)"
   ]
  },
  {
   "cell_type": "code",
   "execution_count": 32,
   "metadata": {},
   "outputs": [
    {
     "name": "stdout",
     "output_type": "stream",
     "text": [
      "0.5\n"
     ]
    }
   ],
   "source": [
    "train_file = 'COMP30027_2023_asst1_data\\gztan_train.csv'\n",
    "test_file = 'COMP30027_2023_asst1_data\\gztan_test.csv'\n",
    "\n",
    "X_train, y_train, train_data_df = preprocess(train_file)\n",
    "X_test, y_test, test_data_df = preprocess(test_file)\n",
    "\n",
    "prior_prob, likelihood_parameters = train(X_train, y_train, train_data_df)\n",
    "\n",
    "choice_list = predict(prior_prob, likelihood_parameters, X_test)\n",
    "\n",
    "accuracy = evaluate(choice_list, y_test)\n",
    "\n",
    "print(accuracy)"
   ]
  },
  {
   "cell_type": "markdown",
   "metadata": {},
   "source": [
    "## Task 1. Pop vs. classical music classification\n",
    "\n",
    "#### NOTE: you may develope codes or functions to help respond to the question here, but your formal answer must be submitted separately as a PDF."
   ]
  },
  {
   "cell_type": "markdown",
   "metadata": {},
   "source": [
    "### Q1\n",
    "Compute and report the accuracy, precision, and recall of your model (treat \"classical\" as the \"positive\" class)."
   ]
  },
  {
   "cell_type": "code",
   "execution_count": null,
   "metadata": {
    "collapsed": true
   },
   "outputs": [],
   "source": []
  },
  {
   "cell_type": "markdown",
   "metadata": {},
   "source": [
    "### Q2\n",
    "For each of the features X below, plot the probability density functions P(X|Class = pop) and P(X|Class = classical). If you had to classify pop vs. classical music using just one of these three features, which feature would you use and why? Refer to your plots to support your answer.\n",
    "- spectral centroid mean\n",
    "- harmony mean\n",
    "- tempo"
   ]
  },
  {
   "cell_type": "code",
   "execution_count": null,
   "metadata": {
    "collapsed": true
   },
   "outputs": [],
   "source": []
  },
  {
   "cell_type": "markdown",
   "metadata": {},
   "source": [
    "## Task 2. 10-way music genre classification\n",
    "\n",
    "#### NOTE: you may develope codes or functions to help respond to the question here, but your formal answer must be submitted separately as a PDF."
   ]
  },
  {
   "cell_type": "markdown",
   "metadata": {},
   "source": [
    "### Q3\n",
    "Compare the performance of the full model to a 0R baseline and a one-attribute baseline. The one-attribute baseline should be the best possible naive Bayes model which uses only a prior and a single attribute. In your write-up, explain how you implemented the 0R and one-attribute baselines."
   ]
  },
  {
   "cell_type": "code",
   "execution_count": null,
   "metadata": {
    "collapsed": true
   },
   "outputs": [],
   "source": []
  },
  {
   "cell_type": "markdown",
   "metadata": {},
   "source": [
    "### Q4\n",
    "Train and test your model with a range of training set sizes by setting up your own train/test splits. With each split, use cross-fold validation so you can report the performance on the entire dataset (1000 items). You may use built-in functions to set up cross-validation splits. In your write-up, evaluate how model performance changes with training set size."
   ]
  },
  {
   "cell_type": "code",
   "execution_count": null,
   "metadata": {
    "collapsed": true
   },
   "outputs": [],
   "source": []
  },
  {
   "cell_type": "markdown",
   "metadata": {},
   "source": [
    "### Q5\n",
    "Implement a kernel density estimate (KDE) naive Bayes model and compare its performance to your Gaussian naive Bayes model. You may use built-in functions and automatic (\"rule of thumb\") bandwidth selectors to compute the KDE probabilities, but you should implement the naive Bayes logic yourself. You should give the parameters of the KDE implementation (namely, what bandwidth(s) you used and how they were chosen) in your write-up."
   ]
  },
  {
   "cell_type": "code",
   "execution_count": null,
   "metadata": {
    "collapsed": true
   },
   "outputs": [],
   "source": []
  },
  {
   "cell_type": "markdown",
   "metadata": {},
   "source": [
    "### Q6\n",
    "Modify your naive Bayes model to handle missing attributes in the test data. Recall from lecture that you can handle missing attributes at test by skipping the missing attributes and computing the posterior probability from the non-missing attributes. Randomly delete some attributes from the provided test set to test how robust your model is to missing data. In your write-up, evaluate how your model's performance changes as the amount of missing data increases."
   ]
  },
  {
   "cell_type": "code",
   "execution_count": null,
   "metadata": {
    "collapsed": true
   },
   "outputs": [],
   "source": []
  }
 ],
 "metadata": {
  "kernelspec": {
   "display_name": "Python 3",
   "language": "python",
   "name": "python3"
  },
  "language_info": {
   "codemirror_mode": {
    "name": "ipython",
    "version": 3
   },
   "file_extension": ".py",
   "mimetype": "text/x-python",
   "name": "python",
   "nbconvert_exporter": "python",
   "pygments_lexer": "ipython3",
   "version": "3.9.13"
  },
  "vscode": {
   "interpreter": {
    "hash": "e76d0f192511dec363b230bd906c0425e51f74b0c08ab807de11ccfb130ca23f"
   }
  }
 },
 "nbformat": 4,
 "nbformat_minor": 4
}
